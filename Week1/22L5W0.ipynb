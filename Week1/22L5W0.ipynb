{
  "nbformat": 4,
  "nbformat_minor": 0,
  "metadata": {
    "colab": {
      "provenance": []
    },
    "kernelspec": {
      "name": "python3",
      "display_name": "Python 3"
    },
    "language_info": {
      "name": "python"
    }
  },
  "cells": [
    {
      "cell_type": "markdown",
      "source": [
        "# Week-1-Workshops\n",
        "## Instructions and Requirements:\n",
        "This workshops is | divided into two different notebooks:\n",
        "  *    22L5W0: Revision of some basic concepts in python programming language. (Prerequisites)\n",
        "  *    22L5W1: Descriptive Statisitics-Numerical Approach\n",
        "      *   Measurement of Central Tendency\n",
        "        *   Mean, Median, Mode\n",
        "      *   Measurement of Dispersion\n",
        "        *   Variance and standard Deviation\n",
        "  ## Requirements:\n",
        "    *   Notebook Environment(Jupyter or Google Colab)\n",
        "\n",
        "*   Author: Siman Giri\n"
      ],
      "metadata": {
        "id": "x3mK9x83viIh"
      }
    },
    {
      "cell_type": "markdown",
      "source": [
        "# Section-1: python basics"
      ],
      "metadata": {
        "id": "4-KGvqx6B26z"
      }
    },
    {
      "cell_type": "markdown",
      "source": [
        "### Arithematic Operations in Python:\n",
        "Python supports the usual arithmetic operators: + (addition), * (multiplication), / (division), ** (power), // (integer division).\n",
        "\n",
        "Questions:\n",
        "\n",
        "1) Define and store a number/integer in a variable x.\n",
        "\n",
        "2) Print the type of variable x.\n",
        "\n",
        "3) Add 2 to given variable x.\n",
        "\n",
        "4) Subtract 3 from varaible x.\n",
        "\n",
        "5) Multiply the variable x with 2.\n",
        "\n",
        "6) Find the power 2 or exponenetial of the varaible x.\n"
      ],
      "metadata": {
        "id": "2VZo7I-QCK5i"
      }
    },
    {
      "cell_type": "code",
      "source": [
        "# Your solutions here:\n",
        "x = 10\n",
        "print(x)\n",
        "\n",
        "x += 2\n",
        "\n",
        "x -= 3\n",
        "\n",
        "x *= 2\n",
        "\n",
        "print(x**2)\n",
        "\n"
      ],
      "metadata": {
        "id": "y3MQSYjrB-ML",
        "colab": {
          "base_uri": "https://localhost:8080/"
        },
        "outputId": "abc86ab9-f5a6-46d4-9532-d6c3ad4cca62"
      },
      "execution_count": 2,
      "outputs": [
        {
          "output_type": "stream",
          "name": "stdout",
          "text": [
            "10\n",
            "324\n"
          ]
        }
      ]
    },
    {
      "cell_type": "markdown",
      "source": [
        "###Strings in Python:\n",
        "Questions:\n",
        "\n",
        "1) Define a strings \" hello\"  and store in the variable.\n",
        "\n",
        "2) Concatenate the strings \"world\" with above strings and store it in the new variable.\n",
        "\n",
        "3) Convert the strings\"hello\" in capital or convert it into uppercase.\n",
        "\n",
        "4) Right justify a string, \"hello\" i.e. add a spce in the right of the string.\n",
        "\n",
        "5) Replace the letter \"e\" from the string \"hello\" with \"a\".\n"
      ],
      "metadata": {
        "id": "Na5fLImHDNdF"
      }
    },
    {
      "cell_type": "code",
      "source": [
        "# Your solutions here:\n",
        "\n",
        "name = \"hello\"\n",
        "\n",
        "name1 = name + \"world\"\n",
        "\n",
        "name2 = name + \" \" + \"world\"\n",
        "\n",
        "print(name.upper())\n",
        "\n",
        "print(name.replace(\"e\",\"a\"))"
      ],
      "metadata": {
        "id": "J4hjv-p1Dd9J",
        "colab": {
          "base_uri": "https://localhost:8080/"
        },
        "outputId": "cafa4e29-0785-4320-f7d3-a550f29a031c"
      },
      "execution_count": 6,
      "outputs": [
        {
          "output_type": "stream",
          "name": "stdout",
          "text": [
            "HELLO\n",
            "hallo\n"
          ]
        }
      ]
    },
    {
      "cell_type": "markdown",
      "source": [
        "## Some basic data structure in Pyhon:\n"
      ],
      "metadata": {
        "id": "p9Tqpo1_DsKu"
      }
    },
    {
      "cell_type": "markdown",
      "source": [
        "### Lists:\n",
        "A list is the python equvalent of an array, but is resizeanle and can contain elemements of different types:"
      ],
      "metadata": {
        "id": "dMy088a_ELNV"
      }
    },
    {
      "cell_type": "code",
      "source": [
        "# Create a list:\n",
        "x = [3, 1, 2]\n",
        "# print whole list.\n",
        "print(x)"
      ],
      "metadata": {
        "colab": {
          "base_uri": "https://localhost:8080/"
        },
        "id": "OqlAt4l8DysZ",
        "outputId": "d2cecb76-82f8-4072-bbef-5cba0939ac23"
      },
      "execution_count": null,
      "outputs": [
        {
          "output_type": "stream",
          "name": "stdout",
          "text": [
            "[3, 1, 2]\n"
          ]
        }
      ]
    },
    {
      "cell_type": "code",
      "source": [
        "# Print first and list element of the list x.\n",
        "# your code here:\n"
      ],
      "metadata": {
        "id": "y7Z4HdqPFCBs"
      },
      "execution_count": null,
      "outputs": []
    },
    {
      "cell_type": "code",
      "source": [
        "# List can take elements of different types, add \"hello\" in list x.\n",
        "# your code here:\n",
        "x.append('foo')\n",
        "print(x)"
      ],
      "metadata": {
        "colab": {
          "base_uri": "https://localhost:8080/"
        },
        "id": "qjSf5cLUFIY9",
        "outputId": "bb7f50ce-df76-455c-a03a-d62aaa1e3139"
      },
      "execution_count": null,
      "outputs": [
        {
          "output_type": "stream",
          "name": "stdout",
          "text": [
            "[3, 1, 2, 'foo']\n"
          ]
        }
      ]
    },
    {
      "cell_type": "markdown",
      "source": [
        "Questions:\n",
        "\n",
        "Write a program that add two list indexwise:\n",
        "\n",
        "Inputs: \n",
        "\n",
        "list1 = [\"T\", \"i\" , \"a\" , \"appl\"]\n",
        "\n",
        "list2 = [\"his\",  \"s\",  \"n\" , \"e\"]\n",
        "\n",
        "Output:\n",
        "\n",
        "newlist = [\"This\" , \"is\" , \"an\", \"apple\"]"
      ],
      "metadata": {
        "id": "-mYdi1ZGF1po"
      }
    },
    {
      "cell_type": "code",
      "source": [
        "# your solution here\n",
        "list1 =  [\"T\", \"i\" , \"a\" , \"appl\"]\n",
        "list2 = [\"his\", \"s\", \"n\" , \"e\"]\n",
        "\n",
        "\n",
        "# declaring a new array\n",
        "newlist = []\n",
        "\n",
        "# loop to apped the previous arrays in a new list\n",
        "for i in range(0,len(list1)):\n",
        "  newlist.append(list1[i]+list2[i])\n",
        "\n",
        "\n",
        "print(newlist)\n"
      ],
      "metadata": {
        "id": "Yc50xfJWFTT7",
        "colab": {
          "base_uri": "https://localhost:8080/"
        },
        "outputId": "2349293f-6004-4242-ae86-fac87d8b7c77"
      },
      "execution_count": 12,
      "outputs": [
        {
          "output_type": "stream",
          "name": "stdout",
          "text": [
            "['This', 'is', 'an', 'apple']\n"
          ]
        }
      ]
    },
    {
      "cell_type": "markdown",
      "source": [
        "Write a program to remove a value 3 with 6 in the following lists.\n",
        "\n",
        "Input:\n",
        "\n",
        "list2 = [5,3, 7, 8]\n",
        "\n",
        "Output:\n",
        "\n",
        "newlist = [5, 6, 7, 8]"
      ],
      "metadata": {
        "id": "AtNKEsK-GF4m"
      }
    },
    {
      "cell_type": "code",
      "source": [
        "# your solutions here\n",
        "list2 = [5,3, 7, 8]\n",
        "list2[1] = 6\n",
        "print(list2)"
      ],
      "metadata": {
        "id": "aYqUaWiqGLM9",
        "colab": {
          "base_uri": "https://localhost:8080/"
        },
        "outputId": "44b4265c-1dcd-462c-a5fb-19e0f92f626b"
      },
      "execution_count": 16,
      "outputs": [
        {
          "output_type": "stream",
          "name": "stdout",
          "text": [
            "[5, 6, 7, 8]\n"
          ]
        }
      ]
    },
    {
      "cell_type": "markdown",
      "source": [
        "###List Slicing:\n",
        "Questions:\n",
        "\n",
        "1) Given the list nums.\n",
        "  *   Slice from index 2 - 4.\n",
        "  *   Slice from index 2 - end.\n",
        "  *   Slice from start to index 2.\n",
        "  *   Assign a new sublist to a slice.\n",
        "\n",
        "\n",
        "\n",
        "\n",
        "  \n",
        "    "
      ],
      "metadata": {
        "id": "_cqHofmSGRrK"
      }
    },
    {
      "cell_type": "code",
      "source": [
        "nums = list(range(5))\n",
        "# your solutions here:\n",
        "\n",
        "num1 = nums[2:4]\n",
        "num2 = nums[2:]\n",
        "num3 = nums[:2]\n",
        "\n",
        "num = num1 + num2 + num3\n",
        "\n",
        "print(num)\n"
      ],
      "metadata": {
        "id": "mjaar3ofGNTO",
        "colab": {
          "base_uri": "https://localhost:8080/"
        },
        "outputId": "d197b91c-e1cf-47c9-d044-28e7b2d23c3a"
      },
      "execution_count": 25,
      "outputs": [
        {
          "output_type": "stream",
          "name": "stdout",
          "text": [
            "[2, 3, 2, 3, 4, 0, 1]\n"
          ]
        }
      ]
    },
    {
      "cell_type": "markdown",
      "source": [
        "### Dicitionary:"
      ],
      "metadata": {
        "id": "rgjUofVMICk5"
      }
    },
    {
      "cell_type": "markdown",
      "source": [
        "Questions:\n",
        "\n",
        "1) Create at lesat two  dicitionary of your choice, with minimum three keys and three values.\n",
        "\n",
        "2) Concatenate the above created dicitionary into one dicitionary.\n",
        "\n",
        "3) Write a program to check whether a key is present in dictionary or not.\n"
      ],
      "metadata": {
        "id": "CUjzB4LaIFmY"
      }
    },
    {
      "cell_type": "code",
      "source": [
        "# your solutions here:\n",
        "dictionary1 = {\n",
        "    \"samir\":\"shrestha\",\n",
        "    \"prabin\":\"kandel\",\n",
        "    \"krishu\":\"dhakal\"\n",
        "}\n",
        "dictionary2 = {\n",
        "    \"rohan\":\"shrestha\",\n",
        "    \"pabitra\":\"dharel\",\n",
        "    \"susma\":\"shrestha\"\n",
        "}\n",
        "\n",
        "dictionary1.update(dictionary2)\n",
        "\n",
        "def check(key,dictionary):\n",
        "  for key in dictionary.keys():\n",
        "    return True\n",
        "  else:\n",
        "    return False\n",
        "\n",
        "check(\"krishu\",dictionary1)\n"
      ],
      "metadata": {
        "id": "C1y3QZYdH_Ds",
        "colab": {
          "base_uri": "https://localhost:8080/"
        },
        "outputId": "cce3d93c-9e85-40db-9dee-a07242b5dbb6"
      },
      "execution_count": 36,
      "outputs": [
        {
          "output_type": "execute_result",
          "data": {
            "text/plain": [
              "True"
            ]
          },
          "metadata": {},
          "execution_count": 36
        }
      ]
    },
    {
      "cell_type": "markdown",
      "source": [
        "### Functions and Conditionals\n"
      ],
      "metadata": {
        "id": "L4GxF1ytIUqo"
      }
    },
    {
      "cell_type": "markdown",
      "source": [
        "Questions:\n",
        "\n",
        "1) Create a function, which checks a number and return \"positive\" if number is more than 3 else return \"negative\"\n",
        "\n",
        "2) Creata a function to return square of input.\n"
      ],
      "metadata": {
        "id": "zrW_f18jJScN"
      }
    },
    {
      "cell_type": "code",
      "source": [
        "def sign(x):\n",
        "  \"\"\"\n",
        "  x: is a input to be checked.\n",
        "  \"\"\"\n",
        "  # your solutions here:\n",
        "  if(x >3):\n",
        "    return \"positive\"\n",
        "  else:\n",
        "    return \"negative\""
      ],
      "metadata": {
        "id": "zkrIcrhrJLIM"
      },
      "execution_count": 42,
      "outputs": []
    },
    {
      "cell_type": "code",
      "source": [
        "# Check the solutions\n",
        "for x in [-1, 0, 4]:\n",
        "    print(sign(x))"
      ],
      "metadata": {
        "colab": {
          "base_uri": "https://localhost:8080/"
        },
        "id": "sQTx_pjDKBAc",
        "outputId": "d75967f7-f5c5-456a-97b3-d321e946b31a"
      },
      "execution_count": 43,
      "outputs": [
        {
          "output_type": "stream",
          "name": "stdout",
          "text": [
            "negative\n",
            "negative\n",
            "positive\n"
          ]
        }
      ]
    },
    {
      "cell_type": "code",
      "source": [
        "# your solutions for Question 2.\n",
        "def square(x):\n",
        "  return x**2\n",
        "\n",
        "print(square(2))"
      ],
      "metadata": {
        "id": "8VWuznDBJkqc",
        "colab": {
          "base_uri": "https://localhost:8080/"
        },
        "outputId": "adee580b-c397-4793-eca3-5970aa3fabe4"
      },
      "execution_count": 45,
      "outputs": [
        {
          "output_type": "stream",
          "name": "stdout",
          "text": [
            "4\n"
          ]
        }
      ]
    }
  ]
}